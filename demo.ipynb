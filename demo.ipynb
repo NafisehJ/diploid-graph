{
 "cells": [
  {
   "cell_type": "code",
   "execution_count": 1,
   "id": "09b2b8b8-c5f2-40a8-9e19-cb6f9283ee59",
   "metadata": {},
   "outputs": [
    {
     "name": "stdout",
     "output_type": "stream",
     "text": [
      "Diploid graph project starts here!\n"
     ]
    }
   ],
   "source": [
    "print(\"Diploid graph project starts here!\")\n"
   ]
  },
  {
   "cell_type": "code",
   "execution_count": null,
   "id": "f55425ff-7888-43b1-abd5-bcee28c1d3f2",
   "metadata": {},
   "outputs": [],
   "source": []
  }
 ],
 "metadata": {
  "kernelspec": {
   "display_name": "Python 3 (ipykernel)",
   "language": "python",
   "name": "python3"
  },
  "language_info": {
   "codemirror_mode": {
    "name": "ipython",
    "version": 3
   },
   "file_extension": ".py",
   "mimetype": "text/x-python",
   "name": "python",
   "nbconvert_exporter": "python",
   "pygments_lexer": "ipython3",
   "version": "3.10.12"
  }
 },
 "nbformat": 4,
 "nbformat_minor": 5
}
